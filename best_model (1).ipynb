{
 "cells": [
  {
   "cell_type": "code",
   "execution_count": 1,
   "id": "51a34493-b987-4f92-af79-11a5b1fbf495",
   "metadata": {},
   "outputs": [
    {
     "name": "stdout",
     "output_type": "stream",
     "text": [
      "RMSE for each model:\n",
      "Linear Regression: 3.713095494641857\n",
      "Decision Tree: 4.466324460356164\n",
      "Random Forest: 3.192531159822474\n",
      "Support Vector Regressor: 518.7054358750222\n",
      "K-Nearest Neighbors: 343.1253742788036\n"
     ]
    }
   ],
   "source": [
    "from sklearn.model_selection import train_test_split\n",
    "from sklearn.linear_model import LinearRegression\n",
    "from sklearn.tree import DecisionTreeRegressor\n",
    "from sklearn.ensemble import RandomForestRegressor\n",
    "from sklearn.svm import SVR\n",
    "from sklearn.neighbors import KNeighborsRegressor\n",
    "from sklearn.metrics import mean_squared_error\n",
    "import numpy as np\n",
    "import pandas as pd\n",
    "\n",
    "# Load data and preprocess\n",
    "data = pd.read_csv(r'C:\\Users\\HI\\Downloads\\stockprice_dataset.csv')\n",
    "data['Date'] = pd.to_datetime(data['Date'])\n",
    "data.ffill(inplace=True) \n",
    "\n",
    "# Set features and target\n",
    "X = data[['Open', 'High', 'Low', 'Adj Close', 'Volume']]\n",
    "y = data['Close']\n",
    "\n",
    "# Split into train and test sets\n",
    "X_train, X_test, y_train, y_test = train_test_split(X, y, test_size=0.2, random_state=42)\n",
    "\n",
    "# Initialize models\n",
    "models = {\n",
    "    'Linear Regression': LinearRegression(),\n",
    "    'Decision Tree': DecisionTreeRegressor(random_state=42),\n",
    "    'Random Forest': RandomForestRegressor(random_state=42, n_estimators=100),\n",
    "    'Support Vector Regressor': SVR(kernel='rbf'),\n",
    "    'K-Nearest Neighbors': KNeighborsRegressor(n_neighbors=5)\n",
    "}\n",
    "\n",
    "# Dictionary to store RMSE values\n",
    "model_rmse = {}\n",
    "\n",
    "# Evaluate each model\n",
    "for model_name, model in models.items():\n",
    "    # Train model\n",
    "    model.fit(X_train, y_train)\n",
    "    # Predict and calculate RMSE\n",
    "    y_pred = model.predict(X_test)\n",
    "    rmse = np.sqrt(mean_squared_error(y_test, y_pred))\n",
    "    model_rmse[model_name] = rmse\n",
    "\n",
    "# Output RMSE for each model\n",
    "print(\"RMSE for each model:\")\n",
    "for model, rmse in model_rmse.items():\n",
    "    print(f\"{model}: {rmse}\")\n"
   ]
  },
  {
   "cell_type": "code",
   "execution_count": null,
   "id": "411ef0be-a941-4636-895c-0eb09ec7db11",
   "metadata": {},
   "outputs": [],
   "source": []
  }
 ],
 "metadata": {
  "kernelspec": {
   "display_name": "Python 3 (ipykernel)",
   "language": "python",
   "name": "python3"
  },
  "language_info": {
   "codemirror_mode": {
    "name": "ipython",
    "version": 3
   },
   "file_extension": ".py",
   "mimetype": "text/x-python",
   "name": "python",
   "nbconvert_exporter": "python",
   "pygments_lexer": "ipython3",
   "version": "3.12.4"
  }
 },
 "nbformat": 4,
 "nbformat_minor": 5
}
